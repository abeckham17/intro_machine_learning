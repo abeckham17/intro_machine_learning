{
 "cells": [
  {
   "cell_type": "code",
   "execution_count": 62,
   "metadata": {},
   "outputs": [],
   "source": [
    "import numpy as np\n",
    "import pandas as pd\n",
    "import matplotlib.pyplot as plt\n",
    "from sklearn import linear_model, neighbors\n",
    "from sklearn.metrics import mean_squared_error, r2_score\n",
    "import seaborn as sns"
   ]
  },
  {
   "cell_type": "markdown",
   "metadata": {},
   "source": [
    "# Problem 2"
   ]
  },
  {
   "cell_type": "code",
   "execution_count": 63,
   "metadata": {},
   "outputs": [],
   "source": [
    "#read data into a dataframe\n",
    "zip_train = pd.read_csv('zip_train.txt', header=None, delimiter = ' ')\n",
    "\n",
    "#ad hoc changes\n",
    "zip_train.drop([257], axis = 1, inplace = True)\n",
    "zip_train.rename({0 : 'digit'}, axis = 1, inplace = True)\n",
    "\n",
    "#we only care about the digits 2 and 3\n",
    "zip_train = zip_train[(zip_train['digit'] == 2.0) | (zip_train['digit'] == 3.0)]"
   ]
  },
  {
   "cell_type": "code",
   "execution_count": 100,
   "metadata": {},
   "outputs": [],
   "source": [
    "#import the test data\n",
    "zip_test = pd.read_csv('zip_test.txt', header = None, delimiter = ' ')\n",
    "#rename the digit column\n",
    "zip_test.rename({0 : 'digit'}, axis = 1, inplace = True)\n",
    "#filter out everything but 2 and 3\n",
    "zip_test = zip_test[(zip_test['digit'] == 2.0) | (zip_test['digit'] == 3.0)]"
   ]
  },
  {
   "cell_type": "code",
   "execution_count": 103,
   "metadata": {},
   "outputs": [],
   "source": [
    "#create a training x and y\n",
    "train_x = zip_train.drop('digit', axis = 1)\n",
    "train_y = zip_train['digit'].astype(str)\n",
    "\n",
    "#create a testing x and y\n",
    "test_x = zip_test.drop('digit', axis = 1)\n",
    "test_y = zip_test['digit'].astype(str)"
   ]
  },
  {
   "cell_type": "markdown",
   "metadata": {},
   "source": [
    "Linear Regression"
   ]
  },
  {
   "cell_type": "code",
   "execution_count": 65,
   "metadata": {},
   "outputs": [],
   "source": [
    "#create a linear regression object\n",
    "regr = linear_model.LinearRegression()"
   ]
  },
  {
   "cell_type": "code",
   "execution_count": 104,
   "metadata": {},
   "outputs": [
    {
     "data": {
      "text/plain": [
       "LinearRegression(copy_X=True, fit_intercept=True, n_jobs=None, normalize=False)"
      ]
     },
     "execution_count": 104,
     "metadata": {},
     "output_type": "execute_result"
    }
   ],
   "source": [
    "#train the model\n",
    "regr.fit(train_x, train_y)"
   ]
  },
  {
   "cell_type": "code",
   "execution_count": 68,
   "metadata": {},
   "outputs": [],
   "source": [
    "#this function converts from the numerical prediction into a categorical digit prediction\n",
    "def convert(num):\n",
    "    if num > 2.5:\n",
    "        return 3\n",
    "    else:\n",
    "        return 2"
   ]
  },
  {
   "cell_type": "code",
   "execution_count": 109,
   "metadata": {},
   "outputs": [],
   "source": [
    "# make predictions based on the training set\n",
    "train_pred = np.array([convert(y) for y in regr.predict(train_x)])\n",
    "test_pred = np.array([convert(y) for y in regr.predict(test_x)])"
   ]
  },
  {
   "cell_type": "code",
   "execution_count": 112,
   "metadata": {
    "scrolled": true
   },
   "outputs": [
    {
     "name": "stdout",
     "output_type": "stream",
     "text": [
      "Training Set Predictions: \n",
      "\tMean squared error: 0.01\n",
      "\tCoefficient of determination: 0.98\n",
      "Test Set Predictions: \n",
      "\tMean squared error: 0.04\n",
      "\tCoefficient of determination: 0.83\n"
     ]
    }
   ],
   "source": [
    "# The mean squared error\n",
    "print('Training Set Predictions: ')\n",
    "print('\\tMean squared error: %.2f'\n",
    "      % mean_squared_error(train_pred, train_y))\n",
    "# The coefficient of determination: 1 is perfect prediction\n",
    "print('\\tCoefficient of determination: %.2f'\n",
    "      % r2_score(train_pred, train_y))\n",
    "\n",
    "# The mean squared error\n",
    "print('Test Set Predictions: ')\n",
    "print('\\tMean squared error: %.2f'\n",
    "      % mean_squared_error(test_pred, test_y))\n",
    "# The coefficient of determination: 1 is perfect prediction\n",
    "print('\\tCoefficient of determination: %.2f'\n",
    "      % r2_score(test_pred, test_y))"
   ]
  },
  {
   "cell_type": "code",
   "execution_count": 108,
   "metadata": {},
   "outputs": [
    {
     "ename": "IndexError",
     "evalue": "only integers, slices (`:`), ellipsis (`...`), numpy.newaxis (`None`) and integer or boolean arrays are valid indices",
     "output_type": "error",
     "traceback": [
      "\u001b[0;31m---------------------------------------------------------------------------\u001b[0m",
      "\u001b[0;31mIndexError\u001b[0m                                Traceback (most recent call last)",
      "\u001b[0;32m<ipython-input-108-417e06e70eed>\u001b[0m in \u001b[0;36m<module>\u001b[0;34m\u001b[0m\n\u001b[1;32m      1\u001b[0m \u001b[0;31m# This plot needs a lot of touching up, but it roughly shows that this model is pretty accurate\u001b[0m\u001b[0;34m\u001b[0m\u001b[0;34m\u001b[0m\u001b[0;34m\u001b[0m\u001b[0m\n\u001b[1;32m      2\u001b[0m \u001b[0mfig\u001b[0m \u001b[0;34m=\u001b[0m \u001b[0mplt\u001b[0m\u001b[0;34m.\u001b[0m\u001b[0mfigure\u001b[0m\u001b[0;34m(\u001b[0m\u001b[0mnum\u001b[0m \u001b[0;34m=\u001b[0m \u001b[0;36m7\u001b[0m\u001b[0;34m)\u001b[0m\u001b[0;34m\u001b[0m\u001b[0;34m\u001b[0m\u001b[0m\n\u001b[0;32m----> 3\u001b[0;31m fig = sns.swarmplot(x = train_pred['num'], y = zip_train['digit'].astype(str),\n\u001b[0m\u001b[1;32m      4\u001b[0m                 hue = train_pred['dig'])\n\u001b[1;32m      5\u001b[0m \u001b[0mplt\u001b[0m\u001b[0;34m.\u001b[0m\u001b[0mxticks\u001b[0m\u001b[0;34m(\u001b[0m\u001b[0mnp\u001b[0m\u001b[0;34m.\u001b[0m\u001b[0marange\u001b[0m\u001b[0;34m(\u001b[0m\u001b[0;36m1.75\u001b[0m\u001b[0;34m,\u001b[0m \u001b[0;36m3.25\u001b[0m\u001b[0;34m,\u001b[0m \u001b[0;36m0.25\u001b[0m\u001b[0;34m)\u001b[0m\u001b[0;34m)\u001b[0m\u001b[0;34m\u001b[0m\u001b[0;34m\u001b[0m\u001b[0m\n",
      "\u001b[0;31mIndexError\u001b[0m: only integers, slices (`:`), ellipsis (`...`), numpy.newaxis (`None`) and integer or boolean arrays are valid indices"
     ]
    },
    {
     "data": {
      "text/plain": [
       "<Figure size 432x288 with 0 Axes>"
      ]
     },
     "metadata": {},
     "output_type": "display_data"
    }
   ],
   "source": [
    "# This plot needs a lot of touching up, but it roughly shows that this model is pretty accurate\n",
    "fig = plt.figure(num = 7)\n",
    "fig = sns.swarmplot(x = train_pred, y = train_y,\n",
    "                hue = train_pred['dig'])\n",
    "plt.xticks(np.arange(1.75, 3.25, 0.25))"
   ]
  },
  {
   "cell_type": "markdown",
   "metadata": {},
   "source": [
    "K - Nearest Neighbors"
   ]
  },
  {
   "cell_type": "code",
   "execution_count": 113,
   "metadata": {},
   "outputs": [
    {
     "name": "stdout",
     "output_type": "stream",
     "text": [
      "K =  1\n",
      "Training Set Predictions:\n",
      "\tMean squared error: 0.00\n",
      "\tCoefficient of determination: 1.00\n",
      "Testing Set Predictions:\n",
      "\tMean squared error: 0.02\n",
      "\tCoefficient of determination: 0.90\n",
      "\n",
      "\n",
      "K =  3\n",
      "Training Set Predictions:\n",
      "\tMean squared error: 0.01\n",
      "\tCoefficient of determination: 0.98\n",
      "Testing Set Predictions:\n",
      "\tMean squared error: 0.03\n",
      "\tCoefficient of determination: 0.88\n",
      "\n",
      "\n",
      "K =  5\n",
      "Training Set Predictions:\n",
      "\tMean squared error: 0.01\n",
      "\tCoefficient of determination: 0.98\n",
      "Testing Set Predictions:\n",
      "\tMean squared error: 0.03\n",
      "\tCoefficient of determination: 0.88\n",
      "\n",
      "\n",
      "K =  7\n",
      "Training Set Predictions:\n",
      "\tMean squared error: 0.01\n",
      "\tCoefficient of determination: 0.97\n",
      "Testing Set Predictions:\n",
      "\tMean squared error: 0.03\n",
      "\tCoefficient of determination: 0.87\n",
      "\n",
      "\n",
      "K =  15\n",
      "Training Set Predictions:\n",
      "\tMean squared error: 0.01\n",
      "\tCoefficient of determination: 0.96\n",
      "Testing Set Predictions:\n",
      "\tMean squared error: 0.04\n",
      "\tCoefficient of determination: 0.85\n",
      "\n",
      "\n"
     ]
    }
   ],
   "source": [
    "k_preds = {}\n",
    "for num in [1, 3, 5, 7, 15]:\n",
    "    klass =  neighbors.KNeighborsClassifier(n_neighbors= num)\n",
    "    klass.fit(train_x, zip_train['digit'].astype(str))\n",
    "    k_preds[num] = {}\n",
    "    k_preds[num]['train'] = klass.predict(train_x)\n",
    "    k_preds[num]['test'] = klass.predict(test_x)\n",
    "    \n",
    "    print('K = ', num)\n",
    "    print('Training Set Predictions:')\n",
    "    # The mean squared error\n",
    "    print('\\tMean squared error: %.2f'\n",
    "          % mean_squared_error(k_preds[num]['train'], train_y))\n",
    "    # The coefficient of determination: 1 is perfect prediction\n",
    "    print('\\tCoefficient of determination: %.2f'\n",
    "          % r2_score(k_preds[num]['train'], train_y))\n",
    "    print('Testing Set Predictions:')\n",
    "    # The mean squared error\n",
    "    print('\\tMean squared error: %.2f'\n",
    "          % mean_squared_error(k_preds[num]['test'], test_y))\n",
    "    # The coefficient of determination: 1 is perfect prediction\n",
    "    print('\\tCoefficient of determination: %.2f'\n",
    "          % r2_score(k_preds[num]['test'], test_y))\n",
    "    print('\\n')"
   ]
  },
  {
   "cell_type": "code",
   "execution_count": null,
   "metadata": {},
   "outputs": [],
   "source": []
  }
 ],
 "metadata": {
  "kernelspec": {
   "display_name": "Python 3",
   "language": "python",
   "name": "python3"
  },
  "language_info": {
   "codemirror_mode": {
    "name": "ipython",
    "version": 3
   },
   "file_extension": ".py",
   "mimetype": "text/x-python",
   "name": "python",
   "nbconvert_exporter": "python",
   "pygments_lexer": "ipython3",
   "version": "3.7.4"
  }
 },
 "nbformat": 4,
 "nbformat_minor": 2
}
