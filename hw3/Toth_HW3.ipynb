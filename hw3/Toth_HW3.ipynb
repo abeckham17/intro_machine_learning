{
 "cells": [
  {
   "cell_type": "code",
   "execution_count": 1,
   "metadata": {
    "id": "6-_12Ce5oyw0"
   },
   "outputs": [],
   "source": [
    "import numpy as np\n",
    "import pandas as pd\n",
    "import matplotlib.pyplot as plt\n",
    "import seaborn as sns\n",
    "import statsmodels.api as sm \n",
    "from sklearn.cross_decomposition import PLSRegression\n",
    "from sklearn.linear_model import LinearRegression\n",
    "from sklearn.decomposition import PCA\n",
    "from sklearn.preprocessing import scale\n",
    "from sklearn.linear_model import Ridge"
   ]
  },
  {
   "cell_type": "markdown",
   "metadata": {
    "id": "noKF98yPUbxr"
   },
   "source": [
    "## Question 1"
   ]
  },
  {
   "cell_type": "code",
   "execution_count": 2,
   "metadata": {
    "id": "MWWDIRK7DLWO"
   },
   "outputs": [],
   "source": [
    "beta = [0.68, 2, -1.5, 1]\n",
    "a_prime = np.array([1.2, -0.3, 4.5])\n",
    "true_param = np.multiply(beta[1:], a_prime)\n",
    "n_trials = 1000\n",
    "n_obs = 50"
   ]
  },
  {
   "cell_type": "code",
   "execution_count": 3,
   "metadata": {
    "colab": {
     "base_uri": "https://localhost:8080/"
    },
    "id": "R9MUViOfF_rU",
    "outputId": "90698cf7-3173-4cba-f11a-698fa378c6e3"
   },
   "outputs": [
    {
     "name": "stdout",
     "output_type": "stream",
     "text": [
      "True Parameters\n",
      "\n",
      "\n",
      "\t\tValue\n",
      "-----------------------------------\n",
      "a' beta[1]\t2.4\n",
      "a' beta[2]\t0.45\n",
      "a' beta[3]\t4.5\n",
      "\n",
      "\n",
      "Method One: 95% Confidence Intervals\n",
      "\n",
      "\n",
      "\t\t2.5%\t97.5%\n",
      "-----------------------------------\n",
      "a' beta[1]\t0.646\t4.122\n",
      "a' beta[2]\t-0.198\t0.159\n",
      "a' beta[3]\t-2.317\t2.854\n",
      "\n",
      "\n",
      "Method Two: 95% Confidence Intervals\n",
      "\n",
      "\n",
      "\t\t2.5%\t97.5%\n",
      "-----------------------------------\n",
      "a' beta[1]\t2.036\t2.761\n",
      "a' beta[2]\t0.372\t0.476\n",
      "a' beta[3]\t4.14\t5.162\n"
     ]
    }
   ],
   "source": [
    "beta_hats1 = np.zeros((n_trials, 3))\n",
    "beta_hats2 = np.zeros((n_trials, 3))\n",
    "\n",
    "for trial in range(n_trials):\n",
    "    X = np.zeros((n_obs, 5))\n",
    "    X[:, 0] = np.random.normal(0, 1, n_obs)\n",
    "    X[:, 1] = np.random.normal(5, 1, n_obs)\n",
    "    X[:, 2] = np.random.normal(7, 2, n_obs)\n",
    "    X[:, 3] = X[:, 0]**2\n",
    "    X[:, 4] = X[:, 0]**3\n",
    "    y_true = beta[0] + X[:, :3].dot(beta[1:]) + np.random.randn(n_obs)\n",
    "\n",
    "    # Method 1: cubic regression using only X1\n",
    "    x_method1 = X[:, [0, 3, 4]]\n",
    "    model_1 = sm.OLS(y_true, x_method1).fit()\n",
    "    beta_hats1[trial, :] = model_1.params\n",
    "\n",
    "    # Method 2: X1, X2, and X3 \n",
    "    x_method2 = X[:, :3]\n",
    "    model_2 = sm.OLS(y_true, x_method2).fit()\n",
    "    beta_hats2[trial, :] = model_2.params \n",
    "\n",
    "a_prime_beta_hat1 = np.sort(np.multiply(a_prime, beta_hats1), axis=0)\n",
    "a_prime_beta_hat2 = np.sort(np.multiply(a_prime, beta_hats2), axis=0)\n",
    "\n",
    "ci_1 = [(a_prime_beta_hat1[25, i], a_prime_beta_hat1[975, i]) for i in range(3)]\n",
    "ci_2 = [(a_prime_beta_hat2[25, i], a_prime_beta_hat2[975, i]) for i in range(3)]\n",
    "\n",
    "print(\"True Parameters\")\n",
    "print(\"\\n\")\n",
    "print(\"\\t\", \"Value\", sep=\"\\t\")\n",
    "print(\"-\"*35)\n",
    "print(\"a' beta[1]\", round(true_param[0], 3), sep=\"\\t\")\n",
    "print(\"a' beta[2]\", round(true_param[1], 3), sep=\"\\t\")\n",
    "print(\"a' beta[3]\", round(true_param[2], 3), sep=\"\\t\")\n",
    "\n",
    "print(\"\\n\")\n",
    "\n",
    "print(\"Method One: 95% Confidence Intervals\")\n",
    "print('\\n')\n",
    "print(\"\\t\", \"2.5%\", \"97.5%\", sep='\\t')\n",
    "print(\"-\"*35)\n",
    "print(\"a' beta[1]\", round(ci_1[0][0], 3), round(ci_1[0][1], 3), sep='\\t')\n",
    "print(\"a' beta[2]\", round(ci_1[1][0], 3), round(ci_1[1][1], 3), sep='\\t')\n",
    "print(\"a' beta[3]\", round(ci_1[2][0], 3), round(ci_1[2][1], 3), sep='\\t')\n",
    "\n",
    "print('\\n')\n",
    "\n",
    "print(\"Method Two: 95% Confidence Intervals\")\n",
    "print('\\n')\n",
    "print(\"\\t\", \"2.5%\", \"97.5%\", sep='\\t')\n",
    "print(\"-\"*35)\n",
    "print(\"a' beta[1]\", round(ci_2[0][0], 3), round(ci_2[0][1], 3), sep='\\t')\n",
    "print(\"a' beta[2]\", round(ci_2[1][0], 3), round(ci_2[1][1], 3), sep='\\t')\n",
    "print(\"a' beta[3]\", round(ci_2[2][0], 3), round(ci_2[2][1], 3), sep='\\t')"
   ]
  },
  {
   "cell_type": "markdown",
   "metadata": {
    "id": "nsHmtl9TXuh7"
   },
   "source": [
    "Method 2 captures the true parameter more than Method 1. You can see from the tables that Method 1 doesn't contain the true values of the parameters often (if at all) in the interval, whereas Method 2 does in all cases. "
   ]
  },
  {
   "cell_type": "markdown",
   "metadata": {
    "id": "jmtMx5GNYk9U"
   },
   "source": [
    "## Question 2"
   ]
  },
  {
   "cell_type": "code",
   "execution_count": 4,
   "metadata": {
    "id": "dKZGlxp_YnAf"
   },
   "outputs": [],
   "source": [
    "data = pd.read_table(\"/Users/davidtoth/Downloads/prostate.data.txt\")\n",
    "data = data.iloc[:, 1:]\n",
    "\n",
    "train_data = data[data.train == \"T\"].iloc[:, :-1]\n",
    "test_data = data[data.train == \"F\"].iloc[:, :-1]\n",
    "\n",
    "xtrain = train_data.drop(\"lcavol\", axis=1)\n",
    "ytrain = train_data[\"lcavol\"]\n",
    "\n",
    "xtest = test_data.drop(\"lcavol\", axis=1)\n",
    "ytest = test_data[\"lcavol\"]"
   ]
  },
  {
   "cell_type": "markdown",
   "metadata": {},
   "source": [
    "### Eigenvalues"
   ]
  },
  {
   "cell_type": "markdown",
   "metadata": {},
   "source": [
    "### PLS"
   ]
  },
  {
   "cell_type": "code",
   "execution_count": 5,
   "metadata": {},
   "outputs": [
    {
     "name": "stdout",
     "output_type": "stream",
     "text": [
      "MSE of PLS on test set:  0.5662\n"
     ]
    }
   ],
   "source": [
    "pls_model = PLSRegression().fit(xtrain, ytrain)\n",
    "yhat_pls = pls_model.predict(xtest).flatten()\n",
    "mse_pls = ((yhat_pls - ytest)**2).mean()\n",
    "print(\"MSE of PLS on test set: \", round(mse_pls, 4))"
   ]
  },
  {
   "cell_type": "markdown",
   "metadata": {},
   "source": [
    "### PCR"
   ]
  },
  {
   "cell_type": "code",
   "execution_count": 6,
   "metadata": {},
   "outputs": [
    {
     "name": "stdout",
     "output_type": "stream",
     "text": [
      "MSE of PCR on test set:  0.5669\n"
     ]
    }
   ],
   "source": [
    "pca = PCA()\n",
    "x_train_pca = pca.fit_transform(scale(xtrain))\n",
    "pca_model = LinearRegression().fit(x_train_pca, ytrain)\n",
    "yhat_pca = pca_model.predict(pca.transform(scale(xtest))).flatten()\n",
    "mse_pca = ((yhat_pca - ytest)**2).mean()\n",
    "print(\"MSE of PCR on test set: \", round(mse_pca, 4))"
   ]
  },
  {
   "cell_type": "markdown",
   "metadata": {},
   "source": [
    "### Ridge"
   ]
  },
  {
   "cell_type": "code",
   "execution_count": 7,
   "metadata": {},
   "outputs": [
    {
     "name": "stdout",
     "output_type": "stream",
     "text": [
      "MSE of Ridge on test set:  0.503\n"
     ]
    }
   ],
   "source": [
    "ridge_model = Ridge().fit(xtrain, ytrain)\n",
    "yhat_ridge = ridge_model.predict(xtest).flatten()\n",
    "mse_ridge = ((yhat_ridge - ytest)**2).mean()\n",
    "print(\"MSE of Ridge on test set: \", round(mse_ridge, 4))"
   ]
  },
  {
   "cell_type": "markdown",
   "metadata": {
    "id": "Jb6gexFjHIeV"
   },
   "source": [
    "## Question 6"
   ]
  },
  {
   "cell_type": "code",
   "execution_count": 8,
   "metadata": {
    "colab": {
     "base_uri": "https://localhost:8080/",
     "height": 388
    },
    "id": "qgFOyNSIHKkH",
    "outputId": "00b0829b-19ac-4665-d7c1-82db0f678bd6"
   },
   "outputs": [
    {
     "data": {
      "image/png": "[encoded data removed]",
      "text/plain": [
       "<Figure size 576x432 with 1 Axes>"
      ]
     },
     "metadata": {
      "needs_background": "light"
     },
     "output_type": "display_data"
    }
   ],
   "source": [
    "# Generate data \n",
    "n = 50\n",
    "x_obs = np.random.rand(n)\n",
    "x_sq = x_obs**2\n",
    "beta_0 = 3\n",
    "beta_1 = 2\n",
    "y = beta_0 + beta_1*x_sq + 0.5*np.random.randn(n)\n",
    "y_obs = y**2\n",
    "\n",
    "plt.figure(figsize=(8,6))\n",
    "plt.scatter(x_obs, y_obs)\n",
    "plt.xlabel(\"$x$\")\n",
    "plt.ylabel(\"$f(x)$\");"
   ]
  },
  {
   "cell_type": "markdown",
   "metadata": {
    "id": "Fj59mqDuf_uu"
   },
   "source": [
    "### Part 1: Fit $y = \\beta_0 + \\beta_1 x + \\epsilon$. "
   ]
  },
  {
   "cell_type": "code",
   "execution_count": 9,
   "metadata": {
    "colab": {
     "base_uri": "https://localhost:8080/",
     "height": 265
    },
    "id": "2jSvHDcMIyFa",
    "outputId": "89991b69-b105-4e7e-8e6e-deae4322749f"
   },
   "outputs": [
    {
     "data": {
      "image/png": "[encoded data removed]",
      "text/plain": [
       "<Figure size 432x288 with 1 Axes>"
      ]
     },
     "metadata": {
      "needs_background": "light"
     },
     "output_type": "display_data"
    }
   ],
   "source": [
    "model1 = sm.OLS(y_obs, sm.add_constant(x_obs)).fit()\n",
    "plt.scatter(model1.fittedvalues, model1.resid);"
   ]
  },
  {
   "cell_type": "markdown",
   "metadata": {
    "id": "5UF0NHdwd-f3"
   },
   "source": [
    "It seems like a quadratic model is in order based on the curvature in the residuals. "
   ]
  },
  {
   "cell_type": "markdown",
   "metadata": {
    "id": "mnx68i9tgVEi"
   },
   "source": [
    "### Part 2: Fit $y = \\beta_0 + \\beta_1 x + \\beta_2 x^2 + \\epsilon$."
   ]
  },
  {
   "cell_type": "code",
   "execution_count": 10,
   "metadata": {
    "colab": {
     "base_uri": "https://localhost:8080/",
     "height": 265
    },
    "id": "hKZMgzUBQCHw",
    "outputId": "6382a86f-0a96-450c-8307-6ecd9e9ef977"
   },
   "outputs": [
    {
     "data": {
      "image/png": "[encoded data removed]",
      "text/plain": [
       "<Figure size 432x288 with 1 Axes>"
      ]
     },
     "metadata": {
      "needs_background": "light"
     },
     "output_type": "display_data"
    }
   ],
   "source": [
    "new_x = x_obs[:, np.newaxis]**(1,2)\n",
    "model2 = sm.OLS(y_obs, sm.add_constant(new_x)).fit()\n",
    "plt.scatter(model2.fittedvalues, model2.resid);"
   ]
  },
  {
   "cell_type": "markdown",
   "metadata": {
    "id": "x2uQGA_OSDNg"
   },
   "source": [
    "The residual variance increases with the mean of fitted values. "
   ]
  },
  {
   "cell_type": "markdown",
   "metadata": {
    "id": "Yr3MvcsEgfJt"
   },
   "source": [
    "### Part 3: Fit $y^{1/2} = \\beta_0 + \\beta_1 x + \\beta_2 x^2 + \\epsilon$."
   ]
  },
  {
   "cell_type": "code",
   "execution_count": 11,
   "metadata": {
    "colab": {
     "base_uri": "https://localhost:8080/",
     "height": 265
    },
    "id": "YM6mxdmeReQB",
    "outputId": "66291abf-d226-4725-f4a6-95579e7fc767"
   },
   "outputs": [
    {
     "data": {
      "image/png": "[encoded data removed]",
      "text/plain": [
       "<Figure size 432x288 with 1 Axes>"
      ]
     },
     "metadata": {
      "needs_background": "light"
     },
     "output_type": "display_data"
    }
   ],
   "source": [
    "# fit y^(1/2) = b0 + b1 x + b2 x^2 + e\n",
    "new_y = np.sqrt(y_obs)\n",
    "model3 = sm.OLS(new_y, sm.add_constant(new_x)).fit()\n",
    "plt.scatter(model3.fittedvalues, model3.resid);"
   ]
  },
  {
   "cell_type": "markdown",
   "metadata": {
    "id": "lvJLGVr9fTqx"
   },
   "source": [
    "The residuals seem to be evenly distributed (have constant variance) across the fitted values. Note the narrow scale on the y-axis (roughly -1 to 1), whereas the previous model had a much wider scale. "
   ]
  },
  {
   "cell_type": "markdown",
   "metadata": {
    "id": "ACK4qbS-gt5W"
   },
   "source": [
    "### Part 4: Fit $\\omega = \\frac{y^{\\lambda} - 1}{\\lambda} = \\beta_0 + \\beta_1 x + \\beta_2 ^2 + \\epsilon$."
   ]
  },
  {
   "cell_type": "code",
   "execution_count": 12,
   "metadata": {
    "colab": {
     "base_uri": "https://localhost:8080/",
     "height": 281
    },
    "id": "6Qw_ZqkZesga",
    "outputId": "3e6a9802-01b4-40fb-91e6-939fd4e5bd49"
   },
   "outputs": [
    {
     "data": {
      "image/png": "[encoded data removed]",
      "text/plain": [
       "<Figure size 432x288 with 1 Axes>"
      ]
     },
     "metadata": {
      "needs_background": "light"
     },
     "output_type": "display_data"
    }
   ],
   "source": [
    "lambda_grid = np.linspace(0.01, 1, 100)\n",
    "epe = np.zeros_like(lambda_grid)\n",
    "\n",
    "for index, lambda_val in enumerate(lambda_grid):\n",
    "    y_mod = (np.power(y_obs, lambda_val) - 1) / lambda_val \n",
    "    model_ = sm.OLS(y_mod, sm.add_constant(new_x)).fit()\n",
    "    epe[index] = np.sqrt(np.mean((model_.fittedvalues - y_mod)**2))\n",
    "\n",
    "plt.plot(lambda_grid, epe)\n",
    "plt.xlabel(\"$\\lambda$\")\n",
    "plt.ylabel(\"$EPE(x)$\");"
   ]
  },
  {
   "cell_type": "markdown",
   "metadata": {
    "id": "wJu1HU96C4H5"
   },
   "source": [
    "The value of $\\lambda$ at which the EPE is minimized is approximately 0.01, i.e., the smallest value in the grid. "
   ]
  },
  {
   "cell_type": "markdown",
   "metadata": {
    "id": "plHc1ZQey-Vi"
   },
   "source": [
    "## Question 7"
   ]
  },
  {
   "cell_type": "code",
   "execution_count": 13,
   "metadata": {
    "id": "57KqSv4LqlNC"
   },
   "outputs": [],
   "source": [
    "chebyshev_polys = [lambda x: 1, \n",
    "                   lambda x: x, \n",
    "                   lambda x: 2*x**2 - 1, \n",
    "                   lambda x: 4*x**3 - 3*x, \n",
    "                   lambda x: 8*x**4 - 8*x**2 + 1,\n",
    "                   lambda x: 16*x**5 - 20*x**3 + 5*x]"
   ]
  },
  {
   "cell_type": "code",
   "execution_count": 14,
   "metadata": {
    "colab": {
     "base_uri": "https://localhost:8080/",
     "height": 281
    },
    "id": "9kJM4oKmrATs",
    "outputId": "89575cd1-58ef-4aed-9319-6b7743ab51e1"
   },
   "outputs": [
    {
     "data": {
      "image/png": "[encoded data removed]",
      "text/plain": [
       "<Figure size 432x288 with 1 Axes>"
      ]
     },
     "metadata": {
      "needs_background": "light"
     },
     "output_type": "display_data"
    }
   ],
   "source": [
    "# Generate data and plot \n",
    "x = np.linspace(-0.9, 0.9, 19)\n",
    "y = np.exp(-x)\n",
    "\n",
    "plt.plot(x, y, label=\"$f(x)$\")\n",
    "plt.scatter(x, y, s=20, c=\"k\", label=\"Data\")\n",
    "plt.xlabel(\"$X$\")\n",
    "plt.ylabel(\"$Y$\")\n",
    "plt.legend();"
   ]
  },
  {
   "cell_type": "code",
   "execution_count": 15,
   "metadata": {
    "id": "RtBv_btKsUG1"
   },
   "outputs": [],
   "source": [
    "# Create covariate matrix using Chebyshev \n",
    "# polynomials \n",
    "t_x = np.zeros((len(x), 6))\n",
    "\n",
    "for i in range(6):\n",
    "    t_x[:, i] = chebyshev_polys[i](x)"
   ]
  },
  {
   "cell_type": "code",
   "execution_count": 16,
   "metadata": {
    "id": "PX7n_Racwlh7"
   },
   "outputs": [],
   "source": [
    "# Use least squares to solve for c_k's \n",
    "coefs = np.linalg.lstsq(t_x, y, rcond=None)[0]"
   ]
  },
  {
   "cell_type": "code",
   "execution_count": 17,
   "metadata": {
    "colab": {
     "base_uri": "https://localhost:8080/",
     "height": 265
    },
    "id": "Uh_DyhV8xkTR",
    "outputId": "7d0644ea-2726-42ea-f990-9202e69b6ca0"
   },
   "outputs": [
    {
     "data": {
      "image/png": "[encoded data removed]",
      "text/plain": [
       "<Figure size 432x288 with 1 Axes>"
      ]
     },
     "metadata": {
      "needs_background": "light"
     },
     "output_type": "display_data"
    }
   ],
   "source": [
    "# Plot the fitted function and the data\n",
    "plt.plot(x, t_x@coefs, label=\"$\\hat f(x)$\")\n",
    "plt.scatter(x, y, c=\"k\", s=20, label=\"Data\")\n",
    "plt.legend();"
   ]
  },
  {
   "cell_type": "markdown",
   "metadata": {
    "id": "Educ-6RQzF4O"
   },
   "source": [
    "## Question 8"
   ]
  },
  {
   "cell_type": "code",
   "execution_count": 18,
   "metadata": {
    "id": "eHbNdqDIyES5"
   },
   "outputs": [],
   "source": [
    "def fit_chebyshev(x, y, degree):\n",
    "    covariate_matrix = np.zeros((len(x), degree))\n",
    "\n",
    "    for i in range(degree):\n",
    "        covariate_matrix[:, i] = chebyshev_polys[i](x)\n",
    "\n",
    "    coefs = np.linalg.lstsq(covariate_matrix, y, rcond=None)[0]\n",
    "    y_fit = covariate_matrix @ coefs \n",
    "\n",
    "    return coefs, y_fit\n",
    "\n",
    "def eval_chebyshev(x, coefs):\n",
    "    X = np.zeros((len(x), len(coefs)))\n",
    "\n",
    "    for i in range(len(coefs)):\n",
    "        X[:, i] = chebyshev_polys[i](x)\n",
    "\n",
    "    vals = X @ coefs \n",
    "\n",
    "    return vals "
   ]
  },
  {
   "cell_type": "code",
   "execution_count": 19,
   "metadata": {
    "colab": {
     "base_uri": "https://localhost:8080/",
     "height": 533
    },
    "id": "2ol0cniwz1gX",
    "outputId": "558a9833-ae15-42e8-e7ea-7b9c95bfc409"
   },
   "outputs": [
    {
     "name": "stdout",
     "output_type": "stream",
     "text": [
      "Fitted coefficients:  [1.26604783e+00 1.13031110e+00 2.71459497e-01 4.43318506e-02\n",
      " 5.43756987e-03 5.40059584e-04]\n"
     ]
    },
    {
     "data": {
      "image/png": "[encoded data removed]",
      "text/plain": [
       "<Figure size 576x576 with 1 Axes>"
      ]
     },
     "metadata": {
      "needs_background": "light"
     },
     "output_type": "display_data"
    }
   ],
   "source": [
    "def f(t):\n",
    "    return np.exp(t)\n",
    "\n",
    "t = np.random.uniform(-1, 1, 100)\n",
    "y_t = f(t)\n",
    "\n",
    "chebyshev_coefs, chebyshev_fitted_vals = fit_chebyshev(t, y_t, 6)\n",
    "\n",
    "print(\"Fitted coefficients: \", chebyshev_coefs)\n",
    "\n",
    "new_t = np.linspace(0, 1, 100)\n",
    "new_y_t = f(new_t)\n",
    "fitted_vals = eval_chebyshev(new_t, chebyshev_coefs)\n",
    "\n",
    "\n",
    "plt.figure(figsize=(8, 8))\n",
    "plt.scatter(new_t, new_y_t, c=\"k\", alpha=0.2, label=\"True\")\n",
    "plt.plot(new_t, fitted_vals, label=\"Fitted\")\n",
    "plt.xlabel(\"$t$\")\n",
    "plt.ylabel(\"$f(t)$\")\n",
    "plt.legend();"
   ]
  },
  {
   "cell_type": "code",
   "execution_count": 20,
   "metadata": {
    "colab": {
     "base_uri": "https://localhost:8080/"
    },
    "id": "Xmmsk3NB0rLA",
    "outputId": "571b4373-84dd-4508-ce4c-77a9981223ec"
   },
   "outputs": [
    {
     "name": "stdout",
     "output_type": "stream",
     "text": [
      "Error at t = 0:  2.5900969182313105e-05\n",
      "MSE:  1.1048122895282882e-09\n"
     ]
    }
   ],
   "source": [
    "error_at_zero = fitted_vals[0] - new_y_t[0]\n",
    "mse = np.mean((fitted_vals - new_y_t)**2)\n",
    "print(\"Error at t = 0: \", error_at_zero)\n",
    "print(\"MSE: \", mse)"
   ]
  },
  {
   "cell_type": "code",
   "execution_count": null,
   "metadata": {
    "id": "6jQrCrkj1vlU"
   },
   "outputs": [],
   "source": []
  }
 ],
 "metadata": {
  "colab": {
   "name": "Toth_HW3.ipynb",
   "provenance": []
  },
  "kernelspec": {
   "display_name": "Python 3",
   "language": "python",
   "name": "python3"
  },
  "language_info": {
   "codemirror_mode": {
    "name": "ipython",
    "version": 3
   },
   "file_extension": ".py",
   "mimetype": "text/x-python",
   "name": "python",
   "nbconvert_exporter": "python",
   "pygments_lexer": "ipython3",
   "version": "3.8.5"
  }
 },
 "nbformat": 4,
 "nbformat_minor": 1
}
